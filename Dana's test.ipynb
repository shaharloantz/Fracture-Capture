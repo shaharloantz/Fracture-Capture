{
 "cells": [
  {
   "cell_type": "code",
   "execution_count": 15,
   "id": "04946c1b-6c48-4eb3-8a15-e5aedf2a5964",
   "metadata": {},
   "outputs": [
    {
     "name": "stdout",
     "output_type": "stream",
     "text": [
      "Unzipping completed!\n"
     ]
    }
   ],
   "source": [
    "### unzipping dataset ####\n",
    "import zipfile\n",
    "import os\n",
    "\n",
    "# Define the path to the ZIP file and the output directory\n",
    "zip_path = '/tf/Project - 508/dataset/FractureCapture DS - ALL.zip'\n",
    "output_dir = '/tf/Project - 508/dataset/base'\n",
    "\n",
    "# Create the output directory if it doesn't exist\n",
    "os.makedirs(output_dir, exist_ok=True)\n",
    "\n",
    "# Unzipping the file\n",
    "with zipfile.ZipFile(zip_path, 'r') as zip_ref:\n",
    "    zip_ref.extractall(output_dir)\n",
    "\n",
    "print(\"Unzipping completed!\")"
   ]
  },
  {
   "cell_type": "code",
   "execution_count": 13,
   "id": "709bdd13-f66d-42af-86b5-67136bdcf6ae",
   "metadata": {},
   "outputs": [
    {
     "ename": "NameError",
     "evalue": "name 'auth' is not defined",
     "output_type": "error",
     "traceback": [
      "\u001b[0;31m---------------------------------------------------------------------------\u001b[0m",
      "\u001b[0;31mNameError\u001b[0m                                 Traceback (most recent call last)",
      "Cell \u001b[0;32mIn[13], line 2\u001b[0m\n\u001b[1;32m      1\u001b[0m \u001b[38;5;66;03m# Authenticate and create the drive service\u001b[39;00m\n\u001b[0;32m----> 2\u001b[0m \u001b[43mauth\u001b[49m\u001b[38;5;241m.\u001b[39mauthenticate_user()\n\u001b[1;32m      3\u001b[0m drive_service \u001b[38;5;241m=\u001b[39m build(\u001b[38;5;124m'\u001b[39m\u001b[38;5;124mdrive\u001b[39m\u001b[38;5;124m'\u001b[39m, \u001b[38;5;124m'\u001b[39m\u001b[38;5;124mv3\u001b[39m\u001b[38;5;124m'\u001b[39m)\n\u001b[1;32m      5\u001b[0m \u001b[38;5;28;01mdef\u001b[39;00m \u001b[38;5;21mdownload_and_extract_zip\u001b[39m(folder_id, target_directory, zip_file_name):\n",
      "\u001b[0;31mNameError\u001b[0m: name 'auth' is not defined"
     ]
    }
   ],
   "source": [
    "# Define the root directory where 'fracture' and 'nofracture' folders are located\n",
    "root_dir = '/tf/Project - 508/dataset/'\n",
    "\n",
    "# Define the paths to the new folders for images and labels\n",
    "images_dir = '/tf/Project - 508/dataset/test1/images'\n",
    "labels_dir = '/tf/Project - 508/dataset/test1/labels'\n",
    "\n",
    "# Create directories if they do not exist\n",
    "os.makedirs(images_dir, exist_ok=True)\n",
    "os.makedirs(labels_dir, exist_ok=True)\n",
    "\n",
    "# Function to move files to new location\n",
    "def move_files(source_folder, target_folder):\n",
    "    for file in os.listdir(source_folder):\n",
    "        # Construct old and new file paths\n",
    "        old_file_path = os.path.join(source_folder, file)\n",
    "        new_file_path = os.path.join(target_folder, file)\n",
    "        \n",
    "        # Check if the file already exists in the target location with the same name\n",
    "        if not os.path.exists(new_file_path):\n",
    "            shutil.move(old_file_path, new_file_path)\n",
    "        else:\n",
    "            # If file exists, append a suffix to avoid overwriting\n",
    "            base, extension = os.path.splitext(new_file_path)\n",
    "            i = 1\n",
    "            while os.path.exists(new_file_path):\n",
    "                new_file_path = f\"{base}_{i}{extension}\"\n",
    "                i += 1\n",
    "            shutil.move(old_file_path, new_file_path)\n",
    "\n",
    "# Iterate through each category ('fracture' and 'nofracture') and subfolders\n",
    "for category in ['Fracture - ALL', 'NonFracture - ALL']:\n",
    "    category_path = os.path.join(root_dir, category)\n",
    "    for subfolder in os.listdir(category_path):\n",
    "        subfolder_path = os.path.join(category_path, subfolder)\n",
    "        # Check for 'images' and 'labels' subdirectories within each subfolder\n",
    "        if 'images' in os.listdir(subfolder_path):\n",
    "            images_path = os.path.join(subfolder_path, 'images')\n",
    "            move_files(images_path, images_dir)\n",
    "        if 'labels' in os.listdir(subfolder_path):\n",
    "            labels_path = os.path.join(subfolder_path, 'labels')\n",
    "            move_files(labels_path, labels_dir)\n",
    "\n",
    "print(\"Files have been successfully reorganized.\")"
   ]
  },
  {
   "cell_type": "code",
   "execution_count": null,
   "id": "69f609fe-5a7f-41fa-a12c-0b4416ec1a35",
   "metadata": {},
   "outputs": [],
   "source": []
  }
 ],
 "metadata": {
  "kernelspec": {
   "display_name": "Python 3 (ipykernel)",
   "language": "python",
   "name": "python3"
  },
  "language_info": {
   "codemirror_mode": {
    "name": "ipython",
    "version": 3
   },
   "file_extension": ".py",
   "mimetype": "text/x-python",
   "name": "python",
   "nbconvert_exporter": "python",
   "pygments_lexer": "ipython3",
   "version": "3.11.0rc1"
  }
 },
 "nbformat": 4,
 "nbformat_minor": 5
}
